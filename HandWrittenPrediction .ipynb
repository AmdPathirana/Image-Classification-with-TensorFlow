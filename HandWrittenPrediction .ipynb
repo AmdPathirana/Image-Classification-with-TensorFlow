{
 "cells": [
  {
   "cell_type": "markdown",
   "id": "b9a6d8f8",
   "metadata": {},
   "source": [
    "#Import TensorFLow"
   ]
  },
  {
   "cell_type": "code",
   "execution_count": 13,
   "id": "a3987c5d",
   "metadata": {},
   "outputs": [
    {
     "name": "stdout",
     "output_type": "stream",
     "text": [
      "Using tensorflow version 2.0.0\n"
     ]
    }
   ],
   "source": [
    "import tensorflow as tf\n",
    "# tf.logging.set_verbosity(tf.logging.ERROR)\n",
    "print(\"Using tensorflow version\", tf.__version__)"
   ]
  },
  {
   "cell_type": "markdown",
   "id": "9738e395",
   "metadata": {},
   "source": [
    "#Import DataSet"
   ]
  },
  {
   "cell_type": "code",
   "execution_count": 15,
   "id": "024f40b1",
   "metadata": {},
   "outputs": [
    {
     "name": "stdout",
     "output_type": "stream",
     "text": [
      "Downloading data from https://storage.googleapis.com/tensorflow/tf-keras-datasets/mnist.npz\n",
      "11493376/11490434 [==============================] - 189s 16us/step\n"
     ]
    }
   ],
   "source": [
    "from tensorflow.keras.datasets import mnist\n",
    "(x_train, y_train), (x_test, y_test) = mnist.load_data()"
   ]
  },
  {
   "cell_type": "markdown",
   "id": "05db12eb",
   "metadata": {},
   "source": [
    " #Check the size "
   ]
  },
  {
   "cell_type": "code",
   "execution_count": 17,
   "id": "ec7a17bc",
   "metadata": {},
   "outputs": [
    {
     "name": "stdout",
     "output_type": "stream",
     "text": [
      "x_train:  (60000, 28, 28)\n",
      "y_train:  (60000,)\n",
      "x_test:  (10000, 28, 28)\n",
      "y_trest (10000,)\n"
     ]
    }
   ],
   "source": [
    "print(\"x_train: \", x_train.shape)\n",
    "print(\"y_train: \", y_train.shape)\n",
    "print(\"x_test: \", x_test.shape)\n",
    "print(\"y_trest\", y_test.shape)"
   ]
  },
  {
   "cell_type": "markdown",
   "id": "c3edbdda",
   "metadata": {},
   "source": [
    "#Plot Images Examples\n"
   ]
  },
  {
   "cell_type": "code",
   "execution_count": 21,
   "id": "74933bac",
   "metadata": {},
   "outputs": [
    {
     "data": {
      "image/png": "[encoded data removed]",
      "text/plain": [
       "<Figure size 432x288 with 1 Axes>"
      ]
     },
     "metadata": {
      "needs_background": "light"
     },
     "output_type": "display_data"
    }
   ],
   "source": [
    "from matplotlib import pyplot as plt\n",
    "%matplotlib inline \n",
    "\n",
    "#cmap to make for binary (black and white)\n",
    "plt.imshow(x_train[10], cmap='binary')\n",
    "plt.show()"
   ]
  },
  {
   "cell_type": "code",
   "execution_count": null,
   "id": "753d5c80",
   "metadata": {},
   "outputs": [],
   "source": []
  }
 ],
 "metadata": {
  "kernelspec": {
   "display_name": "Python 3 (ipykernel)",
   "language": "python",
   "name": "python3"
  },
  "language_info": {
   "codemirror_mode": {
    "name": "ipython",
    "version": 3
   },
   "file_extension": ".py",
   "mimetype": "text/x-python",
   "name": "python",
   "nbconvert_exporter": "python",
   "pygments_lexer": "ipython3",
   "version": "3.7.13"
  }
 },
 "nbformat": 4,
 "nbformat_minor": 5
}
