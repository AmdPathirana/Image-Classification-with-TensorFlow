{
 "cells": [
  {
   "cell_type": "markdown",
   "id": "3423740e",
   "metadata": {},
   "source": [
    "#Import TensorFLow"
   ]
  },
  {
   "cell_type": "code",
   "execution_count": 13,
   "id": "13745cdd",
   "metadata": {},
   "outputs": [
    {
     "name": "stdout",
     "output_type": "stream",
     "text": [
      "Using tensorflow version 2.0.0\n"
     ]
    }
   ],
   "source": [
    "import tensorflow as tf\n",
    "# tf.logging.set_verbosity(tf.logging.ERROR)\n",
    "print(\"Using tensorflow version\", tf.__version__)"
   ]
  },
  {
   "cell_type": "markdown",
   "id": "f7ee743e",
   "metadata": {},
   "source": [
    "#Import DataSet"
   ]
  },
  {
   "cell_type": "code",
   "execution_count": 15,
   "id": "c008d8ee",
   "metadata": {},
   "outputs": [
    {
     "name": "stdout",
     "output_type": "stream",
     "text": [
      "Downloading data from https://storage.googleapis.com/tensorflow/tf-keras-datasets/mnist.npz\n",
      "11493376/11490434 [==============================] - 189s 16us/step\n"
     ]
    }
   ],
   "source": [
    "from tensorflow.keras.datasets import mnist\n",
    "(x_train, y_train), (x_test, y_test) = mnist.load_data()"
   ]
  },
  {
   "cell_type": "markdown",
   "id": "f3a1a464",
   "metadata": {},
   "source": [
    " #Check the size "
   ]
  },
  {
   "cell_type": "code",
   "execution_count": 22,
   "id": "94d15dbe",
   "metadata": {},
   "outputs": [
    {
     "name": "stdout",
     "output_type": "stream",
     "text": [
      "x_train:  (60000, 28, 28)\n",
      "y_train:  (60000,)\n",
      "x_test:  (10000, 28, 28)\n",
      "y_trest (10000,)\n"
     ]
    }
   ],
   "source": [
    "print(\"x_train: \", x_train.shape)\n",
    "print(\"y_train: \", y_train.shape)\n",
    "print(\"x_test: \", x_test.shape)\n",
    "print(\"y_trest\", y_test.shape)\n",
    "\n",
    "#here the 28,28 means the width and the height of the data"
   ]
  },
  {
   "cell_type": "markdown",
   "id": "7bc7126c",
   "metadata": {},
   "source": [
    "#Plot Images Examples\n"
   ]
  },
  {
   "cell_type": "code",
   "execution_count": 21,
   "id": "8c550e11",
   "metadata": {},
   "outputs": [
    {
     "data": {
      "image/png": "[encoded data removed]",
      "text/plain": [
       "<Figure size 432x288 with 1 Axes>"
      ]
     },
     "metadata": {
      "needs_background": "light"
     },
     "output_type": "display_data"
    }
   ],
   "source": [
    "from matplotlib import pyplot as plt\n",
    "%matplotlib inline \n",
    "\n",
    "#cmap to make for binary (black and white)\n",
    "plt.imshow(x_train[10], cmap='binary')\n",
    "plt.show()"
   ]
  },
  {
   "cell_type": "markdown",
   "id": "e073d3b7",
   "metadata": {},
   "source": [
    "#display the lables"
   ]
  },
  {
   "cell_type": "code",
   "execution_count": 23,
   "id": "26a4a8c9",
   "metadata": {},
   "outputs": [
    {
     "data": {
      "text/plain": [
       "3"
      ]
     },
     "execution_count": 23,
     "metadata": {},
     "output_type": "execute_result"
    }
   ],
   "source": [
    "y_train[10]"
   ]
  },
  {
   "cell_type": "markdown",
   "id": "e208b0ee",
   "metadata": {},
   "source": [
    "#check the y labales. python set "
   ]
  },
  {
   "cell_type": "code",
   "execution_count": 36,
   "id": "5bb06460",
   "metadata": {},
   "outputs": [
    {
     "name": "stdout",
     "output_type": "stream",
     "text": [
      "{0, 1, 2, 3, 4, 5, 6, 7, 8, 9}\n"
     ]
    }
   ],
   "source": [
    "print(set(y_train))"
   ]
  },
  {
   "cell_type": "markdown",
   "id": "4d71b7cb",
   "metadata": {},
   "source": [
    "#One Hot Encoding \n",
    "this is to covert every label into list of 10 elements, it let the relavalt lable as one and other element of the list as 0 \n",
    "\n",
    "5 = [0,0,0,0,1,0,0,0,0,0]\n",
    "\n",
    "7 = [0,0,0,0,0,0,1,0,0,0]"
   ]
  },
  {
   "cell_type": "code",
   "execution_count": 38,
   "id": "78ca6431",
   "metadata": {},
   "outputs": [],
   "source": [
    "from tensorflow.keras.utils import to_categorical\n",
    "y_train_encoded = to_categorical(y_train)\n",
    "y_test_encoded = to_categorical(y_test)"
   ]
  },
  {
   "cell_type": "markdown",
   "id": "1bfc13d8",
   "metadata": {},
   "source": [
    "#validate using the shape"
   ]
  },
  {
   "cell_type": "code",
   "execution_count": 39,
   "id": "5e7835eb",
   "metadata": {},
   "outputs": [
    {
     "name": "stdout",
     "output_type": "stream",
     "text": [
      "y_train_encoded:  (60000, 10)\n",
      "y_test_encoded:  (10000, 10)\n"
     ]
    }
   ],
   "source": [
    "print(\"y_train_encoded: \",y_train_encoded.shape)\n",
    "print(\"y_test_encoded: \", y_test_encoded.shape)"
   ]
  },
  {
   "cell_type": "markdown",
   "id": "72574f22",
   "metadata": {},
   "source": [
    "#Dispaly Encodede Labales "
   ]
  },
  {
   "cell_type": "code",
   "execution_count": 41,
   "id": "067ced72",
   "metadata": {},
   "outputs": [
    {
     "data": {
      "text/plain": [
       "array([0., 0., 0., 1., 0., 0., 0., 0., 0., 0.], dtype=float32)"
      ]
     },
     "execution_count": 41,
     "metadata": {},
     "output_type": "execute_result"
    }
   ],
   "source": [
    "y_train_encoded[10]"
   ]
  },
  {
   "cell_type": "markdown",
   "id": "74bb4350",
   "metadata": {},
   "source": [
    "# preprocessing "
   ]
  },
  {
   "cell_type": "markdown",
   "id": "df7cd002",
   "metadata": {},
   "source": [
    "#Uncrolling N-dimensional Arrays to Vectors "
   ]
  },
  {
   "cell_type": "code",
   "execution_count": 43,
   "id": "b342ec8d",
   "metadata": {},
   "outputs": [
    {
     "name": "stdout",
     "output_type": "stream",
     "text": [
      "x_train_reshape:  (60000, 784)\n",
      "x_test_reshape:  (10000, 784)\n"
     ]
    }
   ],
   "source": [
    "import numpy as np\n",
    "x_train_reshape = np.reshape(x_train,(60000,784))\n",
    "x_test_reshape = np.reshape(x_test, (10000,784))\n",
    "\n",
    "print(\"x_train_reshape: \", x_train_reshape.shape)\n",
    "print(\"x_test_reshape: \", x_test_reshape.shape)"
   ]
  },
  {
   "cell_type": "markdown",
   "id": "67b95569",
   "metadata": {},
   "source": [
    "#Display pixel values\n",
    "\n",
    "Below displays the set of pixel values the image 1 "
   ]
  },
  {
   "cell_type": "code",
   "execution_count": 45,
   "id": "cabbd6ae",
   "metadata": {},
   "outputs": [
    {
     "name": "stdout",
     "output_type": "stream",
     "text": [
      "{0, 6, 7, 10, 12, 19, 21, 25, 28, 29, 37, 38, 47, 48, 50, 51, 54, 56, 57, 60, 63, 71, 75, 76, 79, 84, 85, 86, 96, 112, 114, 121, 122, 128, 130, 131, 135, 141, 145, 146, 148, 159, 162, 163, 165, 167, 168, 173, 178, 179, 186, 189, 190, 195, 196, 198, 199, 202, 208, 215, 223, 224, 225, 227, 228, 229, 230, 233, 237, 238, 239, 240, 243, 246, 249, 252, 253, 255}\n"
     ]
    }
   ],
   "source": [
    "print(set(x_train_reshape[1]))"
   ]
  },
  {
   "cell_type": "markdown",
   "id": "91877c1c",
   "metadata": {},
   "source": [
    "#Data Normalization (to perform the processing efficently) \n",
    "\n",
    "we use epsilon to reduce the effect of having small std vaule\n",
    "\n",
    "here we have used same x_mean and the x_std for the both x_test_reshape and the x_test_reshape data sets, reseon is we need to do same preprocessing for both data sets, trying to normalized the x_tesrt "
   ]
  },
  {
   "cell_type": "code",
   "execution_count": null,
   "id": "c18251fd",
   "metadata": {},
   "outputs": [],
   "source": [
    "x_mean = np.mean(x_train_reshape)\n",
    "x_std= np.std(x_train_reshape)\n",
    "\n",
    "epsilon = 1e-10\n",
    "\n",
    "x_train_norm = (x_train_reshape - x_mean) / (x_std +epsilon)\n",
    "x_test_norm = (x_test_reshape - x_mean ) / (x_std + epsilon)"
   ]
  }
 ],
 "metadata": {
  "kernelspec": {
   "display_name": "Python 3 (ipykernel)",
   "language": "python",
   "name": "python3"
  },
  "language_info": {
   "codemirror_mode": {
    "name": "ipython",
    "version": 3
   },
   "file_extension": ".py",
   "mimetype": "text/x-python",
   "name": "python",
   "nbconvert_exporter": "python",
   "pygments_lexer": "ipython3",
   "version": "3.7.13"
  }
 },
 "nbformat": 4,
 "nbformat_minor": 5
}
